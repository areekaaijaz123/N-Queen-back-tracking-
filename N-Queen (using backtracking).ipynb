{
 "cells": [
  {
   "cell_type": "markdown",
   "metadata": {},
   "source": [
    "# Question 2: N-Queens using backtracking"
   ]
  },
  {
   "cell_type": "code",
   "execution_count": 53,
   "metadata": {},
   "outputs": [],
   "source": [
    "def take_input():\n",
    "    N = input('Enter number of queens (4 >= n =< 8): ')\n",
    "    N = int(N)\n",
    "    return N"
   ]
  },
  {
   "cell_type": "code",
   "execution_count": 54,
   "metadata": {},
   "outputs": [],
   "source": [
    "def make_board(N):\n",
    "    board = [[0]*N for i in range(N)] \n",
    "    return board"
   ]
  },
  {
   "cell_type": "code",
   "execution_count": 85,
   "metadata": {},
   "outputs": [],
   "source": [
    "def diagonal_attacking(board,row,col,N):\n",
    "    #for checking diagonal attack.. i+j for diagonal at right and i-j for diagonal at left\n",
    "    for i in range(N):\n",
    "        for j in range(N):\n",
    "            if row+col == i+j or row-col == i-j:\n",
    "                if board[i][j] == 1:\n",
    "                    return True\n",
    "    return False"
   ]
  },
  {
   "cell_type": "code",
   "execution_count": 86,
   "metadata": {},
   "outputs": [],
   "source": [
    "def row_col_attacking(board,row,col,N):\n",
    "    #for checking row and column attack\n",
    "    for i in range(N):\n",
    "        if board[i][col] == 1 or board[row][i] == 1:\n",
    "            return True\n",
    "    return False"
   ]
  },
  {
   "cell_type": "code",
   "execution_count": 87,
   "metadata": {},
   "outputs": [],
   "source": [
    "def place_queen(board, n, N):\n",
    "    \n",
    "    if n<1:\n",
    "        return True\n",
    "    \n",
    "    for i in range(N):\n",
    "        for j in range(N):\n",
    "            if not diagonal_attacking(board,i,j,N) and not row_col_attacking(board,i,j,N) :\n",
    "                if board[i][j] == 0 :\n",
    "                    board[i][j] = 1\n",
    "                    \n",
    "                    if place_queen(board,n-1,N):\n",
    "                        return True\n",
    "                    \n",
    "                    board[i][j] = 0\n",
    "    return False"
   ]
  },
  {
   "cell_type": "code",
   "execution_count": 93,
   "metadata": {},
   "outputs": [],
   "source": [
    "def display_board(board,N):\n",
    "    print(f'\\nSolution of {N}-queen')\n",
    "    for i in range(N):\n",
    "        for j in range(N):\n",
    "            print(board[i][j],end=' ')\n",
    "        print('\\n')"
   ]
  },
  {
   "cell_type": "code",
   "execution_count": 94,
   "metadata": {},
   "outputs": [],
   "source": [
    "def main():\n",
    "    N = take_input()\n",
    "    board = make_board(N)\n",
    "    place_queen(board,N,N)\n",
    "    display_board(board,N)\n",
    "    return"
   ]
  },
  {
   "cell_type": "code",
   "execution_count": 95,
   "metadata": {},
   "outputs": [
    {
     "name": "stdout",
     "output_type": "stream",
     "text": [
      "Enter number of queens (4 >= n =< 8): 4\n",
      "\n",
      "Solution of 4-queen\n",
      "0 1 0 0 \n",
      "\n",
      "0 0 0 1 \n",
      "\n",
      "1 0 0 0 \n",
      "\n",
      "0 0 1 0 \n",
      "\n"
     ]
    }
   ],
   "source": [
    "main()"
   ]
  },
  {
   "cell_type": "code",
   "execution_count": null,
   "metadata": {},
   "outputs": [],
   "source": []
  }
 ],
 "metadata": {
  "kernelspec": {
   "display_name": "Python 3",
   "language": "python",
   "name": "python3"
  },
  "language_info": {
   "codemirror_mode": {
    "name": "ipython",
    "version": 3
   },
   "file_extension": ".py",
   "mimetype": "text/x-python",
   "name": "python",
   "nbconvert_exporter": "python",
   "pygments_lexer": "ipython3",
   "version": "3.7.3"
  }
 },
 "nbformat": 4,
 "nbformat_minor": 2
}
